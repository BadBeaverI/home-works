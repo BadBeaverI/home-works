{
  "nbformat": 4,
  "nbformat_minor": 0,
  "metadata": {
    "colab": {
      "provenance": []
    },
    "kernelspec": {
      "name": "python3",
      "display_name": "Python 3"
    },
    "language_info": {
      "name": "python"
    }
  },
  "cells": [
    {
      "cell_type": "markdown",
      "source": [
        "## Задача 1."
      ],
      "metadata": {
        "id": "z90MXF3w-oTF"
      }
    },
    {
      "cell_type": "code",
      "source": [
        "import numpy as np\n",
        "import scipy.stats as stats\n",
        "\n",
        "M = 80\n",
        "σ = 16\n",
        "n = 256\n",
        "confidence = 0.95\n",
        "\n",
        "z = stats.norm.ppf((1 + confidence) / 2)\n",
        "lower_limit = M - z * (σ / np.sqrt(n))\n",
        "upper_limit = M + z * (σ / np.sqrt(n))\n",
        "\n",
        "confidence_interval = (round(lower_limit, 2), round(upper_limit, 2))\n",
        "print(\"Доверительный интервал:\", confidence_interval)\n"
      ],
      "metadata": {
        "colab": {
          "base_uri": "https://localhost:8080/"
        },
        "id": "vQY3Ox3r-ngh",
        "outputId": "020d7668-b75f-4e66-d3c3-9be370c26cdc"
      },
      "execution_count": null,
      "outputs": [
        {
          "output_type": "stream",
          "name": "stdout",
          "text": [
            "Доверительный интервал: (78.04, 81.96)\n"
          ]
        }
      ]
    },
    {
      "cell_type": "markdown",
      "source": [
        "## Задача 2."
      ],
      "metadata": {
        "id": "ZQXQ1ImoHJ8z"
      }
    },
    {
      "cell_type": "code",
      "source": [
        "import numpy as np\n",
        "\n",
        "data = [6.9, 6.1, 6.2, 6.8, 7.5, 6.3, 6.4, 6.9, 6.7, 6.1]\n",
        "\n",
        "sample_mean = np.mean(data)\n",
        "sample_std = np.std(data, ddof=1)\n",
        "\n",
        "n = len(data)\n",
        "confidence = 0.95\n",
        "\n",
        "z = stats.t.ppf((1 + confidence) / 2, df=n-1)\n",
        "lower_limit = sample_mean - z * (sample_std / np.sqrt(n))\n",
        "upper_limit = sample_mean + z * (sample_std / np.sqrt(n))\n",
        "\n",
        "confidence_interval = (round(lower_limit, 2), round(upper_limit, 2))\n",
        "print(\"Доверительный интервал:\", confidence_interval)\n"
      ],
      "metadata": {
        "id": "Qgbn_s34spxS",
        "colab": {
          "base_uri": "https://localhost:8080/"
        },
        "outputId": "6ed8fde5-260a-403a-f351-c2cb2fc582f4"
      },
      "execution_count": null,
      "outputs": [
        {
          "output_type": "stream",
          "name": "stdout",
          "text": [
            "Доверительный интервал: (6.27, 6.91)\n"
          ]
        }
      ]
    },
    {
      "cell_type": "markdown",
      "source": [
        "## Задача 3."
      ],
      "metadata": {
        "id": "eo70woqvH1wq"
      }
    },
    {
      "cell_type": "code",
      "source": [
        "import numpy as np\n",
        "from scipy import stats\n",
        "\n",
        "children_heights = [175, 167, 154, 174, 178, 148, 160, 167, 169, 170]\n",
        "parents_heights = [178, 165, 165, 173, 168, 155, 160, 164, 178, 175]\n",
        "\n",
        "children_mean = np.mean(children_heights)\n",
        "parents_mean = np.mean(parents_heights)\n",
        "\n",
        "difference_mean = parents_mean - children_mean\n",
        "\n",
        "n_children = len(children_heights)\n",
        "n_parents = len(parents_heights)\n",
        "\n",
        "children_std = np.std(children_heights, ddof=1)\n",
        "parents_std = np.std(parents_heights, ddof=1)\n",
        "\n",
        "diff_std = np.sqrt((children_std**2 / n_children) + (parents_std**2 / n_parents))\n",
        "\n",
        "confidence = 0.95\n",
        "\n",
        "t = stats.t.ppf((1 + confidence) / 2, df=n_children + n_parents - 2)\n",
        "\n",
        "lower_limit = difference_mean - t * diff_std\n",
        "upper_limit = difference_mean + t * diff_std\n",
        "\n",
        "confidence_interval = (round(lower_limit, 2), round(upper_limit, 2))\n",
        "print(\"Доверительный интервал для разности среднего роста родителей и детей:\", confidence_interval)\n"
      ],
      "metadata": {
        "colab": {
          "base_uri": "https://localhost:8080/"
        },
        "id": "hI-wNH_VH3ZD",
        "outputId": "ff61127d-4e51-4b27-e065-32dc4778e413"
      },
      "execution_count": null,
      "outputs": [
        {
          "output_type": "stream",
          "name": "stdout",
          "text": [
            "Доверительный интервал для разности среднего роста родителей и детей: (-6.27, 10.07)\n"
          ]
        }
      ]
    }
  ]
}
