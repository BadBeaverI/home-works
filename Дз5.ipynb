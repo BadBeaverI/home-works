{
  "nbformat": 4,
  "nbformat_minor": 0,
  "metadata": {
    "colab": {
      "provenance": [],
      "toc_visible": true,
      "include_colab_link": true
    },
    "kernelspec": {
      "name": "python3",
      "display_name": "Python 3"
    },
    "language_info": {
      "name": "python"
    }
  },
  "cells": [
    {
      "cell_type": "markdown",
      "metadata": {
        "id": "view-in-github",
        "colab_type": "text"
      },
      "source": [
        "<a href=\"https://colab.research.google.com/github/BadBeaverI/home-works/blob/main/%D0%94%D0%B75.ipynb\" target=\"_parent\"><img src=\"https://colab.research.google.com/assets/colab-badge.svg\" alt=\"Open In Colab\"/></a>"
      ]
    },
    {
      "cell_type": "markdown",
      "source": [
        "## Первое задание"
      ],
      "metadata": {
        "id": "GBXEsVDsnJx6"
      }
    },
    {
      "cell_type": "markdown",
      "source": [
        "Курсив Критерий Стьюдента применяется когда выборка содержит менее 30 наблюдений, дисперсия не известна, мат.ожидание не известно;\n",
        "Z - Критерий применяется при выборке содержащей от 30 наблюдений, дисперсия известна, мат ожидание содержит значение."
      ],
      "metadata": {
        "id": "JZx1g5znnfyr"
      }
    },
    {
      "cell_type": "markdown",
      "source": [
        "## Второе задание"
      ],
      "metadata": {
        "id": "BLuvikR4oD-5"
      }
    },
    {
      "cell_type": "markdown",
      "source": [
        "Z = (17.5 - 17) / (√4 / √100)\n",
        "Z = 0.5 / (2 / 10)\n",
        "Z = 0.5 / 0.2\n",
        "Z = 2.5\n",
        "\n",
        "Так как значение Z = 2.5 больше критического значения Zкрит = 1.645, мы отвергаем нулевую гипотезу H0."
      ],
      "metadata": {
        "id": "dEVuc9TN1ioI"
      }
    },
    {
      "cell_type": "markdown",
      "source": [
        "## Третье задание"
      ],
      "metadata": {
        "id": "LSsaTEZP6Z-O"
      }
    },
    {
      "cell_type": "markdown",
      "source": [
        "Среднее значение (X̄) = (202 + 203 + 199 + 197 + 195 + 201 + 200 + 204 + 194 + 190) / 10 = 198.5 г\n",
        "Стандартное отклонение (S) = √(Σ(X - X̄)² / (n - 1))\n",
        " = √((202 - 198.5)² + (203 - 198.5)² + ... + (190 - 198.5)² / (10 - 1))\n",
        " = √(16 + 22.5 + ... + 69.5) / 9\n",
        " = √763 / 9\n",
        " ≈ √84.78\n",
        " ≈ 9.21 г\n",
        "\n",
        " t = (198.5 - 200) / (9.21 / √10)\n",
        " ≈ -1.5 / 2.91\n",
        " ≈ -0.515\n",
        "\n",
        " Нулевая гипотеза опровергнута. То есть, верно утверждение продавца о том, что средний вес пачки печенья составляет 200 г."
      ],
      "metadata": {
        "id": "REM26I8K6m-m"
      }
    },
    {
      "cell_type": "markdown",
      "source": [
        "## Четвертое задание"
      ],
      "metadata": {
        "id": "d_oiHylm7rHO"
      }
    },
    {
      "cell_type": "code",
      "source": [
        "import numpy as np\n",
        "from scipy.stats import ttest_ind\n",
        "\n",
        "mother_heights = [172, 177, 158, 170, 178, 175, 164, 160, 169, 165]\n",
        "daughter_heights = [173, 175, 162, 174, 175, 168, 155, 170, 160, 163]\n",
        "\n",
        "t_statistic, p_value = ttest_ind(mother_heights, daughter_heights)\n",
        "\n",
        "\n",
        "alpha = 0.05\n",
        "\n",
        "if p_value < alpha:\n",
        "    print(\"Есть статистически значимые различия в среднем росте матерей и дочерей.\")\n",
        "else:\n",
        "    print(\"Нет статистически значимых различий в среднем росте матерей и дочерей.\")"
      ],
      "metadata": {
        "colab": {
          "base_uri": "https://localhost:8080/"
        },
        "id": "4Pw4WKsm8XJn",
        "outputId": "d117cac6-6a09-4b9a-873a-1221f3de1547"
      },
      "execution_count": null,
      "outputs": [
        {
          "output_type": "stream",
          "name": "stdout",
          "text": [
            "Нет статистически значимых различий в среднем росте матерей и дочерей.\n"
          ]
        }
      ]
    }
  ]
}