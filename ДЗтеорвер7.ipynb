{
  "nbformat": 4,
  "nbformat_minor": 0,
  "metadata": {
    "colab": {
      "provenance": []
    },
    "kernelspec": {
      "name": "python3",
      "display_name": "Python 3"
    },
    "language_info": {
      "name": "python"
    }
  },
  "cells": [
    {
      "cell_type": "markdown",
      "source": [
        "## Задача 1"
      ],
      "metadata": {
        "id": "s1aUEXb8dDOK"
      }
    },
    {
      "cell_type": "code",
      "source": [
        "from scipy.stats import mannwhitneyu\n",
        "\n",
        "\n",
        "x1 = [380, 420, 290]\n",
        "y1 = [140, 360, 200, 900]\n",
        "\n",
        "\n",
        "statistic, p_value = mannwhitneyu(x1, y1, alternative='two-sided')\n",
        "\n",
        "\n",
        "if p_value < 0.05:\n",
        "    print(\"Статистические различия между группами есть.\")\n",
        "else:\n",
        "    print(\"Статистических различий между группами нет.\")\n"
      ],
      "metadata": {
        "colab": {
          "base_uri": "https://localhost:8080/"
        },
        "id": "gqcR573KdESr",
        "outputId": "a6751625-c666-4d42-da03-f2b5f0501592"
      },
      "execution_count": null,
      "outputs": [
        {
          "output_type": "stream",
          "name": "stdout",
          "text": [
            "Статистических различий между группами нет.\n"
          ]
        }
      ]
    },
    {
      "cell_type": "markdown",
      "source": [
        "## Задача 2"
      ],
      "metadata": {
        "id": "VP5FKDBgdinT"
      }
    },
    {
      "cell_type": "code",
      "source": [
        "from scipy.stats import kruskal\n",
        "\n",
        "\n",
        "x1 = [150, 160, 165, 145, 155]\n",
        "x2 = [140, 155, 150, 130, 135]\n",
        "x3 = [130, 130, 120, 130, 125]\n",
        "\n",
        "\n",
        "statistic, p_value = kruskal(x1, x2, x3)\n",
        "\n",
        "\n",
        "if p_value < 0.05:\n",
        "    print(\"Статистические различия между измерениями давления есть.\")\n",
        "else:\n",
        "    print(\"Статистических различий между измерениями давления нет.\")\n"
      ],
      "metadata": {
        "colab": {
          "base_uri": "https://localhost:8080/"
        },
        "id": "X9vXuLE2dlQB",
        "outputId": "fbab4cfa-4464-4b88-9331-89ad9394c80e"
      },
      "execution_count": null,
      "outputs": [
        {
          "output_type": "stream",
          "name": "stdout",
          "text": [
            "Статистические различия между измерениями давления есть.\n"
          ]
        }
      ]
    },
    {
      "cell_type": "markdown",
      "source": [
        "## Задача 3"
      ],
      "metadata": {
        "id": "fJiofgyoeCRN"
      }
    },
    {
      "cell_type": "code",
      "source": [
        "from scipy.stats import kruskal\n",
        "\n",
        "\n",
        "x1 = [150, 160, 165, 145, 155]\n",
        "x2 = [140, 155, 150, 130, 135]\n",
        "\n",
        "\n",
        "\n",
        "statistic, p_value = kruskal(x1, x2)\n",
        "\n",
        "\n",
        "if p_value < 0.05:\n",
        "    print(\"Статистические различия между измерениями давления есть.\")\n",
        "else:\n",
        "    print(\"Статистических различий между измерениями давления нет.\")"
      ],
      "metadata": {
        "colab": {
          "base_uri": "https://localhost:8080/"
        },
        "id": "nUJgprHrd5mT",
        "outputId": "e96e27e1-ad0e-4e9d-a220-738955fdc242"
      },
      "execution_count": null,
      "outputs": [
        {
          "output_type": "stream",
          "name": "stdout",
          "text": [
            "Статистических различий между измерениями давления нет.\n"
          ]
        }
      ]
    },
    {
      "cell_type": "markdown",
      "source": [
        "## Задача 4"
      ],
      "metadata": {
        "id": "hAS_ZoM0eHgz"
      }
    },
    {
      "cell_type": "code",
      "source": [
        "from scipy.stats import kruskal\n",
        "\n",
        "\n",
        "group1 = [56, 60, 62, 55, 71, 67, 59, 58, 64, 67]\n",
        "group2 = [57, 58, 69, 48, 72, 70, 68, 71, 50, 53]\n",
        "group3 = [57, 67, 49, 48, 47, 55, 66, 51, 54]\n",
        "\n",
        "\n",
        "statistic, p_value = kruskal(group1, group2, group3)\n",
        "\n",
        "\n",
        "if p_value < 0.05:\n",
        "    print(\"Есть статистически значимые различия между группами.\")\n",
        "else:\n",
        "    print(\"Нет статистически значимых различий между группами.\")\n"
      ],
      "metadata": {
        "colab": {
          "base_uri": "https://localhost:8080/"
        },
        "id": "vtpzkqRWeKeV",
        "outputId": "63a8f2ac-b811-47b9-9748-9ca291d6767e"
      },
      "execution_count": null,
      "outputs": [
        {
          "output_type": "stream",
          "name": "stdout",
          "text": [
            "Нет статистически значимых различий между группами.\n"
          ]
        }
      ]
    },
    {
      "cell_type": "markdown",
      "source": [
        "## Задача 5"
      ],
      "metadata": {
        "id": "HVyFG9IbflJ6"
      }
    },
    {
      "cell_type": "code",
      "source": [
        "import scipy.stats as stats\n",
        "\n",
        "\n",
        "samples = [2.51, 2.35, 2.74, 2.56, 2.40, 2.36, 2.65, 2.7, 2.67, 2.34]\n",
        "\n",
        "\n",
        "\n",
        "t_stat, p_value = stats.ttest_1samp(samples, 2.5)\n",
        "\n",
        "\n",
        "alpha = 0.05\n",
        "if p_value < alpha:\n",
        "    print(\"Гипотеза не верна\")\n",
        "else:\n",
        "    print(\"Гипотеза верна.\")"
      ],
      "metadata": {
        "colab": {
          "base_uri": "https://localhost:8080/"
        },
        "id": "Mh74yPEBfMCs",
        "outputId": "95d5347e-90ea-44ed-8408-4f279083fa2d"
      },
      "execution_count": null,
      "outputs": [
        {
          "output_type": "stream",
          "name": "stdout",
          "text": [
            "Гипотеза верна.\n"
          ]
        }
      ]
    }
  ]
}