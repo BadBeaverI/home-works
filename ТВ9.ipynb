{
  "nbformat": 4,
  "nbformat_minor": 0,
  "metadata": {
    "colab": {
      "provenance": []
    },
    "kernelspec": {
      "name": "python3",
      "display_name": "Python 3"
    },
    "language_info": {
      "name": "python"
    }
  },
  "cells": [
    {
      "cell_type": "markdown",
      "source": [
        "## Задача 1."
      ],
      "metadata": {
        "id": "yrgJhxnBLaD1"
      }
    },
    {
      "cell_type": "code",
      "execution_count": null,
      "metadata": {
        "colab": {
          "base_uri": "https://localhost:8080/"
        },
        "id": "A8hoH4pbLSQX",
        "outputId": "b3b659ac-84f8-4843-e9f0-4daf73413c2e"
      },
      "outputs": [
        {
          "output_type": "stream",
          "name": "stdout",
          "text": [
            "Коэффициенты линейной регрессии с использованием intercept: y = 2.6205388824027636 * x + 444.1773573243596\n",
            "Коэффициенты линейной регрессии без использования intercept: y = 5.889820420132689 * x\n"
          ]
        }
      ],
      "source": [
        "import numpy as np\n",
        "\n",
        "# Исходные данные\n",
        "zp = np.array([35, 45, 190, 200, 40, 70, 54, 150, 120, 110])\n",
        "ks = np.array([401, 574, 874, 919, 459, 739, 653, 902, 746, 832])\n",
        "\n",
        "# Расчет коэффициентов линейной регрессии с использованием intercept\n",
        "X = np.column_stack([np.ones_like(zp), zp])\n",
        "coefficients_with_intercept = np.linalg.inv(X.T @ X) @ X.T @ ks\n",
        "intercept_with_intercept = coefficients_with_intercept[0]\n",
        "slope_with_intercept = coefficients_with_intercept[1]\n",
        "\n",
        "# Расчет коэффициентов линейной регрессии без использования intercept\n",
        "coefficients_without_intercept = np.linalg.inv(zp.reshape(-1, 1).T @ zp.reshape(-1, 1)) @ zp.reshape(-1, 1).T @ ks\n",
        "slope_without_intercept = coefficients_without_intercept[0]\n",
        "\n",
        "\n",
        "print(f\"Коэффициенты линейной регрессии с использованием intercept: y = {slope_with_intercept} * x + {intercept_with_intercept}\")\n",
        "print(f\"Коэффициенты линейной регрессии без использования intercept: y = {slope_without_intercept} * x\")"
      ]
    },
    {
      "cell_type": "markdown",
      "source": [
        "## Задача 2."
      ],
      "metadata": {
        "id": "aBAzxuYJLqkQ"
      }
    },
    {
      "cell_type": "code",
      "source": [
        "import numpy as np\n",
        "\n",
        "# Исходные данные\n",
        "zp = np.array([35, 45, 190, 200, 40, 70, 54, 150, 120, 110])\n",
        "ks = np.array([401, 574, 874, 919, 459, 739, 653, 902, 746, 832])\n",
        "\n",
        "# Расчет коэффициента линейной регрессии без использования intercept\n",
        "coefficients = np.linalg.inv(zp.reshape(-1, 1).T @ zp.reshape(-1, 1)) @ zp.reshape(-1, 1).T @ ks\n",
        "slope_without_intercept = coefficients[0]\n",
        "\n",
        "print(f\"Коэффициент линейной регрессии без использования intercept: y = {slope_without_intercept} * x\")"
      ],
      "metadata": {
        "colab": {
          "base_uri": "https://localhost:8080/"
        },
        "id": "FbANrAe1Y-fj",
        "outputId": "a286c3c2-0655-4b6f-fbd3-a878b917f7ee"
      },
      "execution_count": null,
      "outputs": [
        {
          "output_type": "stream",
          "name": "stdout",
          "text": [
            "Коэффициент линейной регрессии без использования intercept: y = 5.889820420132689 * x\n"
          ]
        }
      ]
    },
    {
      "cell_type": "markdown",
      "source": [
        "## Задача 3."
      ],
      "metadata": {
        "id": "5aIzaMTdLuEV"
      }
    },
    {
      "cell_type": "code",
      "source": [
        "import numpy as np\n",
        "\n",
        "# Исходные данные\n",
        "zp = np.array([35, 45, 190, 200, 40, 70, 54, 150, 120, 110])\n",
        "ks = np.array([401, 574, 874, 919, 459, 739, 653, 902, 746, 832])\n",
        "\n",
        "# Инициализация коэффициентов\n",
        "slope = 0  # Начальное значение наклона\n",
        "intercept = 0  # Начальное значение пересечения\n",
        "\n",
        "# Гиперпараметры\n",
        "learning_rate = 0.0001  # Скорость обучения\n",
        "epochs = 1000  # количество итераций\n",
        "\n",
        "# Градиентный спуск\n",
        "for epoch in range(epochs):\n",
        "    # Вычисляем предсказания\n",
        "    y_pred = slope * zp + intercept\n",
        "\n",
        "    # Вычисляем градиенты\n",
        "    slope_gradient = (-2/len(zp)) * np.sum(zp * (ks - y_pred))\n",
        "    intercept_gradient = (-2/len(zp)) * np.sum(ks - y_pred)\n",
        "\n",
        "    # Обновляем коэффициенты\n",
        "    slope -= learning_rate * slope_gradient\n",
        "    intercept -= learning_rate * intercept_gradient\n",
        "\n",
        "\n",
        "print(f\"Коэффициент наклона: {slope}\")\n",
        "print(f\"Intercept: {intercept}\")\n"
      ],
      "metadata": {
        "colab": {
          "base_uri": "https://localhost:8080/"
        },
        "id": "55xWcVLmLx-I",
        "outputId": "a9b03a49-d008-484f-a785-baa01184055f"
      },
      "execution_count": null,
      "outputs": [
        {
          "output_type": "stream",
          "name": "stdout",
          "text": [
            "Коэффициент наклона: -1.4565128585234505e+245\n",
            "Intercept: -1.0720578600058548e+243\n"
          ]
        }
      ]
    },
    {
      "cell_type": "code",
      "source": [],
      "metadata": {
        "id": "1CN1iRecZgfB"
      },
      "execution_count": null,
      "outputs": []
    }
  ]
}