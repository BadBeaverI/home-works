{
  "nbformat": 4,
  "nbformat_minor": 0,
  "metadata": {
    "colab": {
      "provenance": [],
      "authorship_tag": "ABX9TyO7rSVXsVJewp6sMx53rjhR"
    },
    "kernelspec": {
      "name": "python3",
      "display_name": "Python 3"
    },
    "language_info": {
      "name": "python"
    }
  },
  "cells": [
    {
      "cell_type": "code",
      "source": [],
      "metadata": {
        "id": "RZYjOT1ByMUI"
      },
      "execution_count": null,
      "outputs": []
    },
    {
      "cell_type": "markdown",
      "source": [
        "\n",
        "\n",
        "И так , у нас есть данные о 90 189 игроках, которые установили игру во время проведения AB-теста. Переменные включают:\n",
        "\n",
        "userid: Уникальный номер, идентифицирующий каждого игрока.\n",
        "\n",
        "version: Определяет, был ли игрок в контрольной группе (gate_30 - препятствие на уровне 30) или в группе с перемещенным препятствием (gate_40 - препятствие на уровне 40).\n",
        "\n",
        "sum_gamerounds: Количество раундов, сыгранных игроком в течение первых 14 дней после установки.\n",
        "\n",
        "retention_1: Возвратился ли игрок и сыграл 1 день после установки?\n",
        "\n",
        "retention_7: Возвратился ли игрок и сыграл 7 дней после установки?\n",
        "\n",
        "Когда игрок устанавливал игру, он или она были случайно назначены в одну из групп.\n",
        "\n",
        "Шаг 1: Определение проблемы\n",
        "Мы стремимся понять разницу в поведении пользователей между двумя версиями (gate_30 и gate_40) игры Cookie Cats. В частности, мы проанализируем переменную \"sum_gamerounds\", представляющую количество сыгранных раундов пользователями.\n",
        "\n",
        "Шаг 2: Формулировка гипотез\n",
        "Нулевая гипотеза (H0): Нет статистически значимой разницы в количестве сыгранных раундов между двумя версиями.\n",
        "\n",
        "Альтернативная гипотеза (H1): Существует статистически значимая разница в количестве сыгранных раундов между двумя версиями.\n",
        "\n",
        "Шаг 3: Исследование данных\n",
        "Давайте начнем с загрузки набора данных и изучения основной статистической информации:\n",
        "\n",
        "Загрузка набора данных:\n",
        "В этом разделе мы загружаем набор данных Cookie Cats в pandas dataframe."
      ],
      "metadata": {
        "id": "O4WexSOJ5Qhy"
      }
    },
    {
      "cell_type": "code",
      "source": [
        "import pandas as pd\n",
        "import numpy as np\n",
        "import matplotlib.pyplot as plt\n",
        "import seaborn as sns\n",
        "from scipy import stats\n",
        "from scipy.stats import shapiro, levene, ttest_ind, mannwhitneyu\n",
        "import os\n",
        "for dirname, _, filenames in os.walk('/kaggle/input'):\n",
        "    for filename in filenames:\n",
        "        print(os.path.join(dirname, filename))"
      ],
      "metadata": {
        "id": "Cygtzy_b8x3L"
      },
      "execution_count": null,
      "outputs": []
    },
    {
      "cell_type": "code",
      "source": [
        "df = pd.read_csv('/kaggle/input/mobile-games-ab-testing-cookie-cats/cookie_cats.csv' )\n",
        "df.info()"
      ],
      "metadata": {
        "id": "DUxZIqNf84oO"
      },
      "execution_count": null,
      "outputs": []
    },
    {
      "cell_type": "code",
      "source": [
        "def check_df(dataframe, head=5):\n",
        "    print(\"##################### Shape #####################\")\n",
        "    print(dataframe.shape)\n",
        "    print(\"##################### Types #####################\")\n",
        "    print(dataframe.dtypes)\n",
        "    print(\"##################### Head #####################\")\n",
        "    print(dataframe.head())\n",
        "    print(\"##################### Tail #####################\")\n",
        "    print(dataframe.tail())\n",
        "    print(\"##################### NA #####################\")\n",
        "    print(dataframe.isnull().sum())\n",
        "\n",
        "check_df(df)"
      ],
      "metadata": {
        "id": "ua2__DKn9AZS"
      },
      "execution_count": null,
      "outputs": []
    },
    {
      "cell_type": "code",
      "source": [
        "df.describe().T"
      ],
      "metadata": {
        "id": "aGcn_Hlp9FfF"
      },
      "execution_count": null,
      "outputs": []
    },
    {
      "cell_type": "code",
      "source": [
        "# Number of unique users in groups A and B.\n",
        "\n",
        "df.groupby(\"version\")[[\"userid\"]].nunique()"
      ],
      "metadata": {
        "id": "T87UhEUj9LyI"
      },
      "execution_count": null,
      "outputs": []
    },
    {
      "cell_type": "code",
      "source": [
        "# Some statistics of \"sum_gamerounds\" variable by \"versions\"\n",
        "df.groupby(\"version\").agg({\"sum_gamerounds\" : [\"mean\",\"max\",\"count\"]})"
      ],
      "metadata": {
        "id": "yyWlY0qQ9PiS"
      },
      "execution_count": null,
      "outputs": []
    },
    {
      "cell_type": "code",
      "source": [
        "# Visualize the differences between groups\n",
        "sns.countplot(x='version', data=df)\n",
        "plt.title('Player Count by Version')\n",
        "plt.show()"
      ],
      "metadata": {
        "id": "6GHJCm3l9SUM"
      },
      "execution_count": null,
      "outputs": []
    },
    {
      "cell_type": "markdown",
      "source": [
        "Проверка предположения о нормальности (тест Шапиро-Уилка)\n",
        "Давайте проверим предположение о нормальности для переменной \"sum_gamerounds\" в обеих версиях:\n",
        "\n",
        "H0: Предположение о нормальном распределении выполняется.\n",
        "\n",
        "H1: Предположение о нормальном распределении не выполняется.\n",
        "\n",
        "p-значение < 0,05 => H0 -> Отклоняем\n",
        "\n",
        "p-значение > 0,05 => H0 -> Не можем отклонить"
      ],
      "metadata": {
        "id": "iwkoNHyO9dxJ"
      }
    },
    {
      "cell_type": "code",
      "source": [
        "# Normality check for gate_30\n",
        "test_stat, pvalue = shapiro(df.loc[df[\"version\"] == \"gate_30\", \"sum_gamerounds\"])\n",
        "print(\"Test Stat = %.4f, p-value = %.4f\" % (test_stat, pvalue))\n",
        "\n",
        "# Normality check for gate_40\n",
        "test_stat, pvalue = shapiro(df.loc[df[\"version\"] == \"gate_40\", \"sum_gamerounds\"])\n",
        "print(\"Test Stat = %.4f, p-value = %.4f\" % (test_stat, pvalue))"
      ],
      "metadata": {
        "id": "8Pdm4vT592SZ"
      },
      "execution_count": null,
      "outputs": []
    },
    {
      "cell_type": "markdown",
      "source": [
        "В обоих случаях p-значение = 0. Предположение о нормальности было отвергнуто, поскольку оно менее 0,05."
      ],
      "metadata": {
        "id": "n0-vzor0-CoN"
      }
    },
    {
      "cell_type": "markdown",
      "source": [
        "Проверка однородности дисперсии (тест Левена)\n",
        "Давайте проверим однородность дисперсии переменной \"sum_gamerounds\" между двумя версиями:\n",
        "\n",
        "H0: Дисперсия является однородной.\n",
        "\n",
        "H1: Дисперсия не является однородной.\n",
        "\n",
        "p-значение < 0.05 => H0 -> Отклонить\n",
        "\n",
        "p-значение > 0.05 => H0 -> Не отклонять"
      ],
      "metadata": {
        "id": "lZJWI3yH-DD2"
      }
    },
    {
      "cell_type": "code",
      "source": [
        "test_stat, pvalue = levene(df.loc[df[\"version\"] == \"gate_30\", \"sum_gamerounds\"],\n",
        "                            df.loc[df[\"version\"] == \"gate_40\", \"sum_gamerounds\"])\n",
        "print(\"Test Stat = %.4f, p-value = %.4f\" % (test_stat, pvalue))"
      ],
      "metadata": {
        "id": "TDX8wxvE-XM5"
      },
      "execution_count": null,
      "outputs": []
    },
    {
      "cell_type": "markdown",
      "source": [
        "значение p-уровня значимости больше 0,05. Таким образом, нулевая гипотеза не может быть отвергнута."
      ],
      "metadata": {
        "id": "dR_js4nV-oTy"
      }
    },
    {
      "cell_type": "code",
      "source": [
        "Выбор между параметрическим или непараметрическим тестом\n",
        "\n",
        "Если выполняются предположения о нормальности и однородности, можно применить параметрический тест, например, T-тест. В противном случае, более подходящим будет непараметрический тест, такой как тест Манна-Уитни U.\n",
        "\n",
        "Учитывая, что предположение о нормальности нарушается как для версии gate_30, так и gate_40, а предположение об однородности дисперсий выполняется, рекомендуется выбрать непараметрический тест. В частности, тест Манна-Уитни U подходит для сравнения распределения переменной \"sum_gamerounds\" между двумя версиями.\n",
        "\n",
        "Почему выбрать тест Манна-Уитни U:\n",
        "1. Нарушение предположения о нормальности:\n",
        "\n",
        "Поскольку предположение о нормальности не выполняется, тест Манна-Уитни U не зависит от предположения о нормальном распределении и считается устойчивой альтернативой.\n",
        "\n",
        "2. Однородность дисперсий:\n",
        "\n",
        "Тест Манна-Уитни U не требует равенства дисперсий, поэтому он подходит даже при различии дисперсий между группами.\n",
        "\n",
        "Применение теста Манна-Уитни U:\n",
        "Давайте проведем тест Манна-Уитни U для переменной \"sum_gamerounds\" между версиями gate_30 и gate_40."
      ],
      "metadata": {
        "id": "-So-UUxu_EJa"
      },
      "execution_count": null,
      "outputs": []
    },
    {
      "cell_type": "markdown",
      "source": [
        "Интерпретация результатов теста Манна-Уитни:\n",
        "Если p < 0.05: Отвергнуть нулевую гипотезу (H0); существует статистически значимая разница в распределении \"sum_gamerounds\" между gate_30 и gate_40.\n",
        "\n",
        "Если p > 0.05: Не отвергнуть нулевую гипотезу (H0); нет статистически значимой разницы в распределении \"sum_gamerounds\" между gate_30 и gate_40.\n",
        "\n",
        "Учитывая нарушение предположений о нормальности, тест Манна-Уитни предоставляет надежный подход для сравнения центральных тенденций двух групп без полагания на предположения о нормальном распределении.\n"
      ],
      "metadata": {
        "id": "AKO6ygkX_YQb"
      }
    },
    {
      "cell_type": "code",
      "source": [
        "test_stat, pvalue = mannwhitneyu(df.loc[df[\"version\"] == \"gate_30\", \"sum_gamerounds\"],\n",
        "                            df.loc[df[\"version\"] == \"gate_40\", \"sum_gamerounds\"])\n",
        "print(\"Test Stat = %.4f, p-value = %.4f\" % (test_stat, pvalue))"
      ],
      "metadata": {
        "id": "QndL6xUn_edW"
      },
      "execution_count": null,
      "outputs": []
    },
    {
      "cell_type": "markdown",
      "source": [
        "Согласно результатам теста Манна-Уитни, статистика теста составляет 1024331250.5000, а p-значение равно 0.0502. В данном случае, так как p-значение меньше 0.05, нулевая гипотеза (H0) отвергается, указывая на статистически значимую разницу в распределении переменной \"sum_gamerounds\" между версиями \"gate_30\" и \"gate_40\".\n",
        "\n",
        "Вывод:\n",
        "Тест Манна-Уитни, проведенный для сравнения количества сыгранных раундов между версиями игры Cookie Cats \"gate_30\" и \"gate_40\", показывает статистически значимую разницу между группами (p = 0.0502). Этот результат говорит о возможных влияниях версий на поведение пользователей.\n",
        "если мы хотим поддерживать высокий уровень удержания — как 1-дневный, так и 7-дневный — нам не следует перемещать порог с уровня 30 на уровень 40. Конечно, есть и другие показатели, на которые мы могли бы обратить внимание, например количество сыгранных игровых раундов или количество внутриигровых покупок, совершенных двумя AB-группами. Но удержание — один из наиболее важных показателей."
      ],
      "metadata": {
        "id": "fYJJCJY1_24U"
      }
    }
  ]
}