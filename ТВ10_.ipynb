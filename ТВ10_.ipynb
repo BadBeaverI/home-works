{
  "nbformat": 4,
  "nbformat_minor": 0,
  "metadata": {
    "colab": {
      "provenance": []
    },
    "kernelspec": {
      "name": "python3",
      "display_name": "Python 3"
    },
    "language_info": {
      "name": "python"
    }
  },
  "cells": [
    {
      "cell_type": "code",
      "execution_count": null,
      "metadata": {
        "colab": {
          "base_uri": "https://localhost:8080/"
        },
        "id": "F35mV4mBZ7gW",
        "outputId": "efc3aad8-2988-4d25-9e55-c9d10fe1b44d"
      },
      "outputs": [
        {
          "output_type": "stream",
          "name": "stdout",
          "text": [
            "F-статистика:  5.500053450812596\n",
            "p-value:  0.010482206918698694\n",
            "Отвергаем нулевую гипотезу, различия средних значимы\n"
          ]
        }
      ],
      "source": [
        "import scipy.stats as stats\n",
        "\n",
        "# Рост спортсменов\n",
        "footballers = [173, 175, 180, 178, 177, 185, 183, 182]\n",
        "hockey_players = [177, 179, 180, 188, 177, 172, 171, 184, 180]\n",
        "weightlifters = [172, 173, 169, 177, 166, 180, 178, 177, 172, 166, 170]\n",
        "\n",
        "# Проводим дисперсионный анализ\n",
        "f_statistic, p_value = stats.f_oneway(footballers, hockey_players, weightlifters)\n",
        "\n",
        "# Выводим результаты\n",
        "print(\"F-статистика: \", f_statistic)\n",
        "print(\"p-value: \", p_value)\n",
        "\n",
        "# Проверяем p-value\n",
        "alpha = 0.05\n",
        "if p_value < alpha:\n",
        "    print(\"Отвергаем нулевую гипотезу, различия средних значимы\")\n",
        "else:\n",
        "    print(\"Не отвергаем нулевую гипотезу, различия средних незначимы\")"
      ]
    }
  ]
}